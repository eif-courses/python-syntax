{
  "nbformat": 4,
  "nbformat_minor": 0,
  "metadata": {
    "colab": {
      "provenance": [],
      "authorship_tag": "ABX9TyMC8KZNrXBPNe2ArXWWMJU4",
      "include_colab_link": true
    },
    "kernelspec": {
      "name": "python3",
      "display_name": "Python 3"
    },
    "language_info": {
      "name": "python"
    }
  },
  "cells": [
    {
      "cell_type": "markdown",
      "metadata": {
        "id": "view-in-github",
        "colab_type": "text"
      },
      "source": [
        "<a href=\"https://colab.research.google.com/github/eif-courses/python-syntax/blob/main/PythonPamokos.ipynb\" target=\"_parent\"><img src=\"https://colab.research.google.com/assets/colab-badge.svg\" alt=\"Open In Colab\"/></a>"
      ]
    },
    {
      "cell_type": "markdown",
      "source": [
        "# Python Syntax\n"
      ],
      "metadata": {
        "id": "j9A2GWGesimy"
      }
    },
    {
      "cell_type": "markdown",
      "source": [
        "# Indexed for loop usage"
      ],
      "metadata": {
        "id": "jXMRGHCStBAR"
      }
    },
    {
      "cell_type": "code",
      "execution_count": 1,
      "metadata": {
        "colab": {
          "base_uri": "https://localhost:8080/"
        },
        "id": "upywkKQ9scTL",
        "outputId": "8df4f951-a811-45b7-d350-ae5e72a8af74"
      },
      "outputs": [
        {
          "output_type": "stream",
          "name": "stdout",
          "text": [
            "0 1 2 3 4 5 6 7 8 9 "
          ]
        }
      ],
      "source": [
        "for i in range(10):\n",
        "  print(i, end=' ')"
      ]
    },
    {
      "cell_type": "markdown",
      "source": [
        "Read letters from string value one by one"
      ],
      "metadata": {
        "id": "UZkse9ua3eFS"
      }
    },
    {
      "cell_type": "code",
      "source": [
        "for letter in \"banana\":\n",
        "  print(letter, end=' ')"
      ],
      "metadata": {
        "colab": {
          "base_uri": "https://localhost:8080/"
        },
        "id": "EEOWD-ED3efs",
        "outputId": "f8ca78f0-6eac-4395-a90f-632e856428ed"
      },
      "execution_count": 38,
      "outputs": [
        {
          "output_type": "stream",
          "name": "stdout",
          "text": [
            "b a n a n a "
          ]
        }
      ]
    },
    {
      "cell_type": "markdown",
      "source": [
        "Read python list using indexed for loop"
      ],
      "metadata": {
        "id": "kBWwcUo0tdgl"
      }
    },
    {
      "cell_type": "code",
      "source": [
        "fruits = [\"apple\", \"orange\", \"lemon\", \"strawberry\"]\n",
        "for i in range(len(fruits)):\n",
        "  print(fruits[i], end=' ')"
      ],
      "metadata": {
        "colab": {
          "base_uri": "https://localhost:8080/"
        },
        "id": "kPTc6icLtcZA",
        "outputId": "1fa62c9a-ea45-44a6-a176-af03e1f23edb"
      },
      "execution_count": 7,
      "outputs": [
        {
          "output_type": "stream",
          "name": "stdout",
          "text": [
            "apple orange lemon strawberry "
          ]
        }
      ]
    },
    {
      "cell_type": "markdown",
      "source": [
        "Read python list using range with step 2 or any other it prints apple and lemon if we choose 2"
      ],
      "metadata": {
        "id": "Pu_oQFzG2qPA"
      }
    },
    {
      "cell_type": "code",
      "source": [
        "fruits = [\"apple\", \"orange\", \"lemon\", \"strawberry\"]\n",
        "for i in range(0, len(fruits), 2): # step 2 means you get apple and lemon\n",
        "  print(fruits[i], end=' ')"
      ],
      "metadata": {
        "colab": {
          "base_uri": "https://localhost:8080/"
        },
        "id": "kXeYeghq2q4_",
        "outputId": "eb53eade-f43e-4d96-83ca-7b45ec7b908e"
      },
      "execution_count": 36,
      "outputs": [
        {
          "output_type": "stream",
          "name": "stdout",
          "text": [
            "apple lemon "
          ]
        }
      ]
    },
    {
      "cell_type": "markdown",
      "source": [
        "Read two dimensional data"
      ],
      "metadata": {
        "id": "ffeRU0dqzu9G"
      }
    },
    {
      "cell_type": "code",
      "source": [
        "matrix = [[3,2,1], [7,6,9], [5,4,8]]\n",
        "for i in range(len(matrix)):\n",
        "  for j in range(len(matrix[0])):\n",
        "    print(matrix[i][j], end = ' ')\n",
        "  print()"
      ],
      "metadata": {
        "colab": {
          "base_uri": "https://localhost:8080/"
        },
        "id": "Rjyfc_-Fzzww",
        "outputId": "8cb6cc75-242f-4236-f680-e3c0862b3ae5"
      },
      "execution_count": 33,
      "outputs": [
        {
          "output_type": "stream",
          "name": "stdout",
          "text": [
            "3 2 1 \n",
            "7 6 9 \n",
            "5 4 8 \n"
          ]
        }
      ]
    },
    {
      "cell_type": "markdown",
      "source": [
        "# For each loop usage\n"
      ],
      "metadata": {
        "id": "UM_BoGSsud9p"
      }
    },
    {
      "cell_type": "markdown",
      "source": [
        "Read list data structure"
      ],
      "metadata": {
        "id": "atrmLvxx07mA"
      }
    },
    {
      "cell_type": "code",
      "source": [
        "fruits = [\"apple\", \"orange\", \"lemon\", \"strawberry\"]\n",
        "for fruit in fruits:\n",
        "  print(fruit, end=' ')"
      ],
      "metadata": {
        "colab": {
          "base_uri": "https://localhost:8080/"
        },
        "id": "en-nCdyTu3Zb",
        "outputId": "bbd1107a-ad84-4aac-fb61-69654d4a3ff7"
      },
      "execution_count": 9,
      "outputs": [
        {
          "output_type": "stream",
          "name": "stdout",
          "text": [
            "apple orange lemon strawberry "
          ]
        }
      ]
    },
    {
      "cell_type": "markdown",
      "source": [
        "Read dictionary data structure"
      ],
      "metadata": {
        "id": "zRihprc7x-d2"
      }
    },
    {
      "cell_type": "code",
      "source": [
        "courses = {'Java':'Programming in Java', 'C#': 'Programming in C#', 'Python':'Programming in Python'}\n",
        "for key, value in courses.items():\n",
        "  print(f'{key} -> {value}') # print key value from dictionary\n",
        "\n",
        "print(courses[\"Java\"]) # print dictionary value\n",
        "courses['Java'] = 'Java language' # Change dictionary key Java value\n",
        "print(courses['Java']) "
      ],
      "metadata": {
        "colab": {
          "base_uri": "https://localhost:8080/"
        },
        "id": "ALoABxroyEeL",
        "outputId": "8d357304-f20e-4e80-cce4-c16be51a16f3"
      },
      "execution_count": 27,
      "outputs": [
        {
          "output_type": "stream",
          "name": "stdout",
          "text": [
            "Java -> Programming in Java\n",
            "C# -> Programming in C#\n",
            "Python -> Programming in Python\n",
            "Programming in Java\n",
            "Java language\n"
          ]
        }
      ]
    },
    {
      "cell_type": "markdown",
      "source": [
        "# While loop"
      ],
      "metadata": {
        "id": "CYDF04jSvT52"
      }
    },
    {
      "cell_type": "code",
      "source": [
        "menu = 1\n",
        "while menu != 0:\n",
        "  print(\"Enter 0 to close menu!\")\n",
        "  option = int(input(\"Enter your option:\"))\n",
        "  if option == 1:\n",
        "    print('You selected option 1')\n",
        "  elif option == 0:\n",
        "    print(\"Closing menu\")\n",
        "    menu = 0"
      ],
      "metadata": {
        "colab": {
          "base_uri": "https://localhost:8080/"
        },
        "id": "L_Rh0SYfvaCg",
        "outputId": "5377d103-b454-493a-bd5d-e0c72ca0872c"
      },
      "execution_count": 15,
      "outputs": [
        {
          "output_type": "stream",
          "name": "stdout",
          "text": [
            "Enter 0 to close menu!\n",
            "Enter your option:0\n",
            "Closing menu\n"
          ]
        }
      ]
    },
    {
      "cell_type": "markdown",
      "source": [
        "Count sum from list until reach number 55"
      ],
      "metadata": {
        "id": "wjrvzEKC1Ig1"
      }
    },
    {
      "cell_type": "code",
      "source": [
        "data = [5, 7, 8, 10, 20, 55]\n",
        "\n",
        "counter = 0\n",
        "sum = 0\n",
        "while data[counter] != 55:\n",
        "  sum += data[counter] # appending to sum\n",
        "  counter += 1 # updating current index\n",
        "print(sum)"
      ],
      "metadata": {
        "colab": {
          "base_uri": "https://localhost:8080/"
        },
        "id": "VpijTZ6E1Ha8",
        "outputId": "757069c0-27ea-41b5-b4dd-fb9cb7b36e24"
      },
      "execution_count": 35,
      "outputs": [
        {
          "output_type": "stream",
          "name": "stdout",
          "text": [
            "50\n"
          ]
        }
      ]
    }
  ]
}